{
 "cells": [
  {
   "cell_type": "markdown",
   "metadata": {},
   "source": [
    "# Desktop Search Term Analysis\n",
    "\n",
    "[Task](https://phabricator.wikimedia.org/T260243)"
   ]
  },
  {
   "cell_type": "markdown",
   "metadata": {},
   "source": [
    "## Purpose: \n",
    "Understand what search terms get entered to help guide the how to format page titles of each search result."
   ]
  },
  {
   "cell_type": "markdown",
   "metadata": {},
   "source": [
    "## Data Source/Approach:\n",
    "\n",
    "- Reviewed top search terms for ten large Wikipedias and ten small Wikipedias. For small wikipedias, I selected Wikis with at least least 100,000 articles to have enough data for the analysis and avoid any privacy/sensitive data concerns that may result from reviewing small wikis with only few number of searches. \n",
    "- Reviewed frequency of multi vs single word searches overall.\n",
    "- Data includes searches conducted in August 2020 and comes from [SearchSatisfaction table](https://meta.wikimedia.org/wiki/Schema:SearchSatisfaction). \n",
    "- There are two types of seach events recorded in SearchSatisfaction: (1) Autocomplete searches - user types in search widget and reviews/selects option from the drop down menu. (2) Fulltext search - a user provides text in the search widget and then directed to the Search Result Page if the article does not exist. This analysis focuses primarily on autocomplete results since the pupose of the analysis is how to format page titles in the search results provided in the drop down.\n",
    " - For autocomplete events, the query field can include multiple text entries as the user types. For example, if someone is searching for Paris. There might be a record for \"Pa\", \"Par\" and finally \"Paris\". To help isolate to complete searches, I looked for the longest character length query entered in a search session and also set a minimum search query length to at least 3 characters.\n",
    " - The search terms below reflect what the person enters into the search header box not what was selected in the provided drop down menu. For example, if the person just typed \"Par\" and then clicked \"paris\" in the search results provided in the drop down, the search term would be recorded as \"Par\"\n"
   ]
  },
  {
   "cell_type": "code",
   "execution_count": null,
   "metadata": {},
   "outputs": [],
   "source": [
    "shhh <- function(expr) suppressPackageStartupMessages(suppressWarnings(suppressMessages(expr)))\n",
    "shhh({\n",
    "    library(tidyverse); library(wmfdata)\n",
    "})"
   ]
  },
  {
   "cell_type": "markdown",
   "metadata": {},
   "source": [
    "# Common search terms on large-size Wikipedias"
   ]
  },
  {
   "cell_type": "markdown",
   "metadata": {},
   "source": [
    "I reviewed the top search terms for a set of 10 large size Wikipedia (English, Spanish, German, French, Japan, Russiona, Italian, Chinses, Portuguese, and Polish) in August 2020. "
   ]
  },
  {
   "cell_type": "code",
   "execution_count": 103,
   "metadata": {},
   "outputs": [],
   "source": [
    "#Review top autocomplete search terms on large size wikis\n",
    "query<-\n",
    "\"\n",
    "-- find complete search term entered into search widget for all sessions\n",
    "WITH ranked_searches AS (\n",
    "  SELECT\n",
    "    event.searchSessionid AS search_session,\n",
    "    event.query AS search_query,\n",
    "--find longest length search query in each session to remove partial searches\n",
    "    RANK() OVER (PARTITION BY event.searchSessionid\n",
    "                 ORDER BY LENGTH(event.query) DESC) AS ranking\n",
    "  FROM event.SearchSatisfaction\n",
    "  WHERE year = 2020 and month = 08\n",
    "    AND event.source = 'autocomplete'\n",
    "    AND event.action = 'searchResultPage'\n",
    "    AND wiki IN ('enwiki', 'eswiki', 'dewiki', 'frwiki', 'jawiki', 'ruwiki', 'itwiki', 'zhwiki', 'ptwiki', 'plwiki')\n",
    "    AND useragent.is_bot = false \n",
    ")\n",
    "\n",
    "SELECT \n",
    "    search_query,\n",
    "    Count(*) as n_searches\n",
    "FROM ranked_searches\n",
    "WHERE \n",
    "--longest character search term entered in session\n",
    "    ranking = 1 \n",
    "--looking for sessions with at five characters in length\n",
    "    AND LENGTH(search_query) > 2\n",
    "GROUP BY \n",
    "    search_query\n",
    "ORDER BY n_searches DESC\n",
    "LIMIT 100\n",
    "\""
   ]
  },
  {
   "cell_type": "code",
   "execution_count": 104,
   "metadata": {},
   "outputs": [
    {
     "name": "stderr",
     "output_type": "stream",
     "text": [
      "Don't forget to authenticate with Kerberos using kinit\n",
      "\n"
     ]
    }
   ],
   "source": [
    "autocomplete_queries_largewiki <-  wmfdata::query_hive(query)"
   ]
  },
  {
   "cell_type": "code",
   "execution_count": 111,
   "metadata": {},
   "outputs": [
    {
     "data": {
      "text/html": [
       "<table>\n",
       "<caption>A data.frame: 15 × 2</caption>\n",
       "<thead>\n",
       "\t<tr><th></th><th scope=col>search_query</th><th scope=col>n_searches</th></tr>\n",
       "\t<tr><th></th><th scope=col>&lt;chr&gt;</th><th scope=col>&lt;int&gt;</th></tr>\n",
       "</thead>\n",
       "<tbody>\n",
       "\t<tr><th scope=row>1</th><td>nasdaq        </td><td>156726</td></tr>\n",
       "\t<tr><th scope=row>2</th><td>2020          </td><td> 31542</td></tr>\n",
       "\t<tr><th scope=row>3</th><td>part of an url</td><td> 22403</td></tr>\n",
       "\t<tr><th scope=row>4</th><td>tenet         </td><td> 22117</td></tr>\n",
       "\t<tr><th scope=row>5</th><td>kamala        </td><td> 17500</td></tr>\n",
       "\t<tr><th scope=row>6</th><td>covid         </td><td> 14902</td></tr>\n",
       "\t<tr><th scope=row>7</th><td>lucifer       </td><td> 14334</td></tr>\n",
       "\t<tr><th scope=row>8</th><td>belarus       </td><td> 14111</td></tr>\n",
       "\t<tr><th scope=row>9</th><td>joe biden     </td><td> 13479</td></tr>\n",
       "\t<tr><th scope=row>10</th><td>the           </td><td> 13173</td></tr>\n",
       "\t<tr><th scope=row>11</th><td>kamala harris </td><td> 12880</td></tr>\n",
       "\t<tr><th scope=row>12</th><td>dark          </td><td>  8601</td></tr>\n",
       "\t<tr><th scope=row>13</th><td>the boys      </td><td>  8423</td></tr>\n",
       "\t<tr><th scope=row>14</th><td>donald trump  </td><td>  8208</td></tr>\n",
       "\t<tr><th scope=row>15</th><td>the batman    </td><td>  7988</td></tr>\n",
       "</tbody>\n",
       "</table>\n"
      ],
      "text/latex": [
       "A data.frame: 15 × 2\n",
       "\\begin{tabular}{r|ll}\n",
       "  & search\\_query & n\\_searches\\\\\n",
       "  & <chr> & <int>\\\\\n",
       "\\hline\n",
       "\t1 & nasdaq         & 156726\\\\\n",
       "\t2 & 2020           &  31542\\\\\n",
       "\t3 & part of an url &  22403\\\\\n",
       "\t4 & tenet          &  22117\\\\\n",
       "\t5 & kamala         &  17500\\\\\n",
       "\t6 & covid          &  14902\\\\\n",
       "\t7 & lucifer        &  14334\\\\\n",
       "\t8 & belarus        &  14111\\\\\n",
       "\t9 & joe biden      &  13479\\\\\n",
       "\t10 & the            &  13173\\\\\n",
       "\t11 & kamala harris  &  12880\\\\\n",
       "\t12 & dark           &   8601\\\\\n",
       "\t13 & the boys       &   8423\\\\\n",
       "\t14 & donald trump   &   8208\\\\\n",
       "\t15 & the batman     &   7988\\\\\n",
       "\\end{tabular}\n"
      ],
      "text/markdown": [
       "\n",
       "A data.frame: 15 × 2\n",
       "\n",
       "| <!--/--> | search_query &lt;chr&gt; | n_searches &lt;int&gt; |\n",
       "|---|---|---|\n",
       "| 1 | nasdaq         | 156726 |\n",
       "| 2 | 2020           |  31542 |\n",
       "| 3 | part of an url |  22403 |\n",
       "| 4 | tenet          |  22117 |\n",
       "| 5 | kamala         |  17500 |\n",
       "| 6 | covid          |  14902 |\n",
       "| 7 | lucifer        |  14334 |\n",
       "| 8 | belarus        |  14111 |\n",
       "| 9 | joe biden      |  13479 |\n",
       "| 10 | the            |  13173 |\n",
       "| 11 | kamala harris  |  12880 |\n",
       "| 12 | dark           |   8601 |\n",
       "| 13 | the boys       |   8423 |\n",
       "| 14 | donald trump   |   8208 |\n",
       "| 15 | the batman     |   7988 |\n",
       "\n"
      ],
      "text/plain": [
       "   search_query   n_searches\n",
       "1  nasdaq         156726    \n",
       "2  2020            31542    \n",
       "3  part of an url  22403    \n",
       "4  tenet           22117    \n",
       "5  kamala          17500    \n",
       "6  covid           14902    \n",
       "7  lucifer         14334    \n",
       "8  belarus         14111    \n",
       "9  joe biden       13479    \n",
       "10 the             13173    \n",
       "11 kamala harris   12880    \n",
       "12 dark             8601    \n",
       "13 the boys         8423    \n",
       "14 donald trump     8208    \n",
       "15 the batman       7988    "
      ]
     },
     "metadata": {},
     "output_type": "display_data"
    }
   ],
   "source": [
    "head(autocomplete_queries_largewiki, 15)"
   ]
  },
  {
   "cell_type": "code",
   "execution_count": 41,
   "metadata": {},
   "outputs": [],
   "source": [
    "#Review top full term search terms on large size wikis\n",
    "\n",
    "query <- \n",
    "\"SELECT\n",
    "    event.query AS search_query,\n",
    "    COUNT(*) AS n_searches\n",
    "FROM\n",
    "    event.SearchSatisfaction\n",
    "WHERE\n",
    "    event.action = 'searchResultPage' \n",
    "    AND event.source = 'fulltext' \n",
    "--top 10 wikis by size\n",
    "    AND wiki IN ('eswiki', 'dewiki', 'frwiki', 'jawiki', 'ruwiki', 'itwiki', 'zhwiki', 'ptwiki', 'plwiki', 'arwiki') \n",
    "    AND year = 2020 and month = 08 \n",
    "    AND useragent.is_bot = false\n",
    "GROUP BY\n",
    "    event.query\n",
    "ORDER BY n_searches DESC\n",
    "LIMIT 100\""
   ]
  },
  {
   "cell_type": "code",
   "execution_count": 42,
   "metadata": {},
   "outputs": [
    {
     "name": "stderr",
     "output_type": "stream",
     "text": [
      "Don't forget to authenticate with Kerberos using kinit\n",
      "\n"
     ]
    }
   ],
   "source": [
    "fulltext_queries_largewiki <-  wmfdata::query_hive(query)"
   ]
  },
  {
   "cell_type": "code",
   "execution_count": 74,
   "metadata": {},
   "outputs": [
    {
     "data": {
      "text/html": [
       "<table>\n",
       "<caption>A data.frame: 10 × 2</caption>\n",
       "<thead>\n",
       "\t<tr><th></th><th scope=col>search_query</th><th scope=col>n_searches</th></tr>\n",
       "\t<tr><th></th><th scope=col>&lt;chr&gt;</th><th scope=col>&lt;int&gt;</th></tr>\n",
       "</thead>\n",
       "<tbody>\n",
       "\t<tr><th scope=row>1</th><td>part of an url                      </td><td>73912</td></tr>\n",
       "\t<tr><th scope=row>2</th><td>us party affiliation                </td><td> 6406</td></tr>\n",
       "\t<tr><th scope=row>3</th><td>va privatization                    </td><td> 5110</td></tr>\n",
       "\t<tr><th scope=row>4</th><td>MGM Television                      </td><td> 3859</td></tr>\n",
       "\t<tr><th scope=row>5</th><td>armed teachers                      </td><td> 3410</td></tr>\n",
       "\t<tr><th scope=row>6</th><td>Warner Bros. Television Distribution</td><td> 2943</td></tr>\n",
       "\t<tr><th scope=row>7</th><td>\"lots of\"                           </td><td> 2791</td></tr>\n",
       "\t<tr><th scope=row>8</th><td>\"日本語吹替\"                        </td><td> 2740</td></tr>\n",
       "\t<tr><th scope=row>9</th><td>Warner Bros. Family Entertainment   </td><td> 2378</td></tr>\n",
       "\t<tr><th scope=row>10</th><td>Jemeter                             </td><td> 2083</td></tr>\n",
       "</tbody>\n",
       "</table>\n"
      ],
      "text/latex": [
       "A data.frame: 10 × 2\n",
       "\\begin{tabular}{r|ll}\n",
       "  & search\\_query & n\\_searches\\\\\n",
       "  & <chr> & <int>\\\\\n",
       "\\hline\n",
       "\t1 & part of an url                       & 73912\\\\\n",
       "\t2 & us party affiliation                 &  6406\\\\\n",
       "\t3 & va privatization                     &  5110\\\\\n",
       "\t4 & MGM Television                       &  3859\\\\\n",
       "\t5 & armed teachers                       &  3410\\\\\n",
       "\t6 & Warner Bros. Television Distribution &  2943\\\\\n",
       "\t7 & \"lots of\"                            &  2791\\\\\n",
       "\t8 & \"日本語吹替\"                         &  2740\\\\\n",
       "\t9 & Warner Bros. Family Entertainment    &  2378\\\\\n",
       "\t10 & Jemeter                              &  2083\\\\\n",
       "\\end{tabular}\n"
      ],
      "text/markdown": [
       "\n",
       "A data.frame: 10 × 2\n",
       "\n",
       "| <!--/--> | search_query &lt;chr&gt; | n_searches &lt;int&gt; |\n",
       "|---|---|---|\n",
       "| 1 | part of an url                       | 73912 |\n",
       "| 2 | us party affiliation                 |  6406 |\n",
       "| 3 | va privatization                     |  5110 |\n",
       "| 4 | MGM Television                       |  3859 |\n",
       "| 5 | armed teachers                       |  3410 |\n",
       "| 6 | Warner Bros. Television Distribution |  2943 |\n",
       "| 7 | \"lots of\"                            |  2791 |\n",
       "| 8 | \"日本語吹替\"                         |  2740 |\n",
       "| 9 | Warner Bros. Family Entertainment    |  2378 |\n",
       "| 10 | Jemeter                              |  2083 |\n",
       "\n"
      ],
      "text/plain": [
       "   search_query                         n_searches\n",
       "1  part of an url                       73912     \n",
       "2  us party affiliation                  6406     \n",
       "3  va privatization                      5110     \n",
       "4  MGM Television                        3859     \n",
       "5  armed teachers                        3410     \n",
       "6  Warner Bros. Television Distribution  2943     \n",
       "7  \"lots of\"                             2791     \n",
       "8  \"日本語吹替\"                          2740     \n",
       "9  Warner Bros. Family Entertainment     2378     \n",
       "10 Jemeter                               2083     "
      ]
     },
     "metadata": {},
     "output_type": "display_data"
    }
   ],
   "source": [
    "head(fulltext_queries_largewiki, 10)"
   ]
  },
  {
   "cell_type": "markdown",
   "metadata": {},
   "source": [
    "# Common search terms on 10 smaller size wikis"
   ]
  },
  {
   "cell_type": "markdown",
   "metadata": {},
   "source": [
    "Top search terms for a set of 10 small size Wikipedias (Persian, Catalan, Serbian, Indonesian, Norwegian, Korean, Finnish, Hungarian, Czech, and Serbo-Croatian) in August 2020. Note: I selected with at least least 100,000 articles to have enough data for the analysis and avoid any privacy/sensitive data concerns that may result from reviewing small wikis with only few number of searches."
   ]
  },
  {
   "cell_type": "code",
   "execution_count": 86,
   "metadata": {},
   "outputs": [],
   "source": [
    "#Review top autocomplete search terms on small size wikis\n",
    "query<-\n",
    "\"\n",
    "-- find complete search term entered into search widget for all sessions\n",
    "WITH ranked_searches AS (\n",
    "  SELECT\n",
    "    event.searchSessionid AS search_session,\n",
    "    event.query AS search_query,\n",
    "--find longest length search query in each session to remove partial searches\n",
    "    RANK() OVER (PARTITION BY event.searchSessionid\n",
    "                 ORDER BY LENGTH(event.query) DESC) AS ranking\n",
    "  FROM event.SearchSatisfaction\n",
    "  WHERE year = 2020 and month = 08\n",
    "    AND event.source = 'autocomplete'\n",
    "    AND event.action = 'searchResultPage'\n",
    "    AND wiki IN ('fawiki', 'cawiki', 'srwiki', 'idwiki', 'nowiki', 'kowiki', 'fiwiki', 'huwiki', 'cswiki', 'shwiki') \n",
    "    AND useragent.is_bot = false \n",
    ")\n",
    "SELECT \n",
    "    search_query,\n",
    "    Count(*) as n_searches\n",
    "FROM ranked_searches\n",
    "WHERE \n",
    "--longest character search term entered in session\n",
    "    ranking = 1 \n",
    "--looking for search terms with at least 2 characters in length\n",
    "    AND LENGTH(search_query) > 2\n",
    "GROUP BY \n",
    "    search_query\n",
    "ORDER BY n_searches DESC\n",
    "LIMIT 100\n",
    "\""
   ]
  },
  {
   "cell_type": "code",
   "execution_count": 87,
   "metadata": {},
   "outputs": [
    {
     "name": "stderr",
     "output_type": "stream",
     "text": [
      "Don't forget to authenticate with Kerberos using kinit\n",
      "\n"
     ]
    }
   ],
   "source": [
    "autocomplete_queries_smallwiki <-  wmfdata::query_hive(query)"
   ]
  },
  {
   "cell_type": "code",
   "execution_count": 109,
   "metadata": {
    "scrolled": true
   },
   "outputs": [
    {
     "data": {
      "text/html": [
       "<table>\n",
       "<caption>A data.frame: 15 × 2</caption>\n",
       "<thead>\n",
       "\t<tr><th></th><th scope=col>search_query</th><th scope=col>n_searches</th></tr>\n",
       "\t<tr><th></th><th scope=col>&lt;chr&gt;</th><th scope=col>&lt;int&gt;</th></tr>\n",
       "</thead>\n",
       "<tbody>\n",
       "\t<tr><th scope=row>1</th><td>libanon        </td><td>1067</td></tr>\n",
       "\t<tr><th scope=row>2</th><td>bělorusko      </td><td> 983</td></tr>\n",
       "\t<tr><th scope=row>3</th><td>2020           </td><td> 720</td></tr>\n",
       "\t<tr><th scope=row>4</th><td>ledek          </td><td> 668</td></tr>\n",
       "\t<tr><th scope=row>5</th><td>suomi          </td><td> 535</td></tr>\n",
       "\t<tr><th scope=row>6</th><td>سوپر جام       </td><td> 441</td></tr>\n",
       "\t<tr><th scope=row>7</th><td>covid          </td><td> 344</td></tr>\n",
       "\t<tr><th scope=row>8</th><td>usa            </td><td> 341</td></tr>\n",
       "\t<tr><th scope=row>9</th><td>ایران          </td><td> 322</td></tr>\n",
       "\t<tr><th scope=row>10</th><td>praha          </td><td> 318</td></tr>\n",
       "\t<tr><th scope=row>11</th><td>česká republika</td><td> 309</td></tr>\n",
       "\t<tr><th scope=row>12</th><td>سکس            </td><td> 292</td></tr>\n",
       "\t<tr><th scope=row>13</th><td>valko          </td><td> 277</td></tr>\n",
       "\t<tr><th scope=row>14</th><td>대한민국       </td><td> 271</td></tr>\n",
       "\t<tr><th scope=row>15</th><td>česko          </td><td> 268</td></tr>\n",
       "</tbody>\n",
       "</table>\n"
      ],
      "text/latex": [
       "A data.frame: 15 × 2\n",
       "\\begin{tabular}{r|ll}\n",
       "  & search\\_query & n\\_searches\\\\\n",
       "  & <chr> & <int>\\\\\n",
       "\\hline\n",
       "\t1 & libanon         & 1067\\\\\n",
       "\t2 & bělorusko       &  983\\\\\n",
       "\t3 & 2020            &  720\\\\\n",
       "\t4 & ledek           &  668\\\\\n",
       "\t5 & suomi           &  535\\\\\n",
       "\t6 & سوپر جام        &  441\\\\\n",
       "\t7 & covid           &  344\\\\\n",
       "\t8 & usa             &  341\\\\\n",
       "\t9 & ایران           &  322\\\\\n",
       "\t10 & praha           &  318\\\\\n",
       "\t11 & česká republika &  309\\\\\n",
       "\t12 & سکس             &  292\\\\\n",
       "\t13 & valko           &  277\\\\\n",
       "\t14 & 대한민국        &  271\\\\\n",
       "\t15 & česko           &  268\\\\\n",
       "\\end{tabular}\n"
      ],
      "text/markdown": [
       "\n",
       "A data.frame: 15 × 2\n",
       "\n",
       "| <!--/--> | search_query &lt;chr&gt; | n_searches &lt;int&gt; |\n",
       "|---|---|---|\n",
       "| 1 | libanon         | 1067 |\n",
       "| 2 | bělorusko       |  983 |\n",
       "| 3 | 2020            |  720 |\n",
       "| 4 | ledek           |  668 |\n",
       "| 5 | suomi           |  535 |\n",
       "| 6 | سوپر جام        |  441 |\n",
       "| 7 | covid           |  344 |\n",
       "| 8 | usa             |  341 |\n",
       "| 9 | ایران           |  322 |\n",
       "| 10 | praha           |  318 |\n",
       "| 11 | česká republika |  309 |\n",
       "| 12 | سکس             |  292 |\n",
       "| 13 | valko           |  277 |\n",
       "| 14 | 대한민국        |  271 |\n",
       "| 15 | česko           |  268 |\n",
       "\n"
      ],
      "text/plain": [
       "   search_query    n_searches\n",
       "1  libanon         1067      \n",
       "2  bělorusko        983      \n",
       "3  2020             720      \n",
       "4  ledek            668      \n",
       "5  suomi            535      \n",
       "6  سوپر جام         441      \n",
       "7  covid            344      \n",
       "8  usa              341      \n",
       "9  ایران            322      \n",
       "10 praha            318      \n",
       "11 česká republika  309      \n",
       "12 سکس              292      \n",
       "13 valko            277      \n",
       "14 대한민국         271      \n",
       "15 česko            268      "
      ]
     },
     "metadata": {},
     "output_type": "display_data"
    }
   ],
   "source": [
    "head(autocomplete_queries_smallwiki, 15)"
   ]
  },
  {
   "cell_type": "markdown",
   "metadata": {},
   "source": [
    "Based on the above, the top search terms on the small and larger wikis reviewed in August are single words. \"Kamala\" received more views than \"Kamala Harris\" indicating that a larger number of people selected the search result provided in the drop down menu or pressed the search button prior to entering her entire name into the search box.\n",
    "\n",
    "There are a couple terms such as \"part of an url\" that are likely caused by unidentified bots. Other common search terms appear to include names of people and events currently in the news.\n",
    "\n",
    "There's also a large number of searches that start with \"the\".  For \"the\" searches, this was the longest recorded search term for those sessions so they either started typing a search starting with \"the\" and selected one of the provided drop down results or more likely just abandoned the search."
   ]
  },
  {
   "cell_type": "markdown",
   "metadata": {},
   "source": [
    "# Check number of single word vs multi word search terms "
   ]
  },
  {
   "cell_type": "code",
   "execution_count": 124,
   "metadata": {},
   "outputs": [],
   "source": [
    "query <-\n",
    "\"\n",
    "-- find complete search term entered into search widget for all sessions\n",
    "WITH ranked_searches AS (\n",
    "  SELECT\n",
    "    event.searchSessionid AS search_session,\n",
    "    event.query AS search_query,\n",
    "--find longest length search query in each session to remove partial searches\n",
    "    RANK() OVER (PARTITION BY event.searchSessionid\n",
    "                 ORDER BY LENGTH(event.query) DESC) AS ranking\n",
    "  FROM event.SearchSatisfaction\n",
    "  WHERE year = 2020 and month = 08\n",
    "    AND event.source = 'autocomplete'\n",
    "    AND event.action = 'searchResultPage'\n",
    "    AND wiki IN ('fawiki', 'cawiki', 'srwiki', 'idwiki', 'nowiki', 'kowiki', 'fiwiki', 'huwiki', 'cswiki', 'shwiki') \n",
    "    AND useragent.is_bot = false \n",
    ")\n",
    "SELECT \n",
    "-- find number of words\n",
    "   (LENGTH(search_query) - LENGTH(REGEXP_REPLACE(search_query,' ',''))+1) AS num_words,\n",
    "    Count(*) AS n_searches\n",
    "FROM ranked_searches\n",
    "WHERE \n",
    "--longest character search term entered in session\n",
    "    ranking = 1 \n",
    "--looking for search terms with at least 2 characters in length\n",
    "    AND LENGTH(search_query) > 2 \n",
    "GROUP BY \n",
    "    (LENGTH(search_query) - LENGTH(REGEXP_REPLACE(search_query,' ',''))+1) \n",
    "ORDER BY n_searches DESC\n",
    "LIMIT 100\""
   ]
  },
  {
   "cell_type": "code",
   "execution_count": 125,
   "metadata": {},
   "outputs": [
    {
     "name": "stderr",
     "output_type": "stream",
     "text": [
      "Don't forget to authenticate with Kerberos using kinit\n",
      "\n"
     ]
    }
   ],
   "source": [
    "autocomplete_queries_wordcount <-  wmfdata::query_hive(query)"
   ]
  },
  {
   "cell_type": "code",
   "execution_count": 126,
   "metadata": {},
   "outputs": [
    {
     "data": {
      "text/html": [
       "<table>\n",
       "<caption>A data.frame: 20 × 2</caption>\n",
       "<thead>\n",
       "\t<tr><th></th><th scope=col>num_words</th><th scope=col>n_searches</th></tr>\n",
       "\t<tr><th></th><th scope=col>&lt;int&gt;</th><th scope=col>&lt;int&gt;</th></tr>\n",
       "</thead>\n",
       "<tbody>\n",
       "\t<tr><th scope=row>1</th><td> 1</td><td>914678</td></tr>\n",
       "\t<tr><th scope=row>2</th><td> 2</td><td>733311</td></tr>\n",
       "\t<tr><th scope=row>3</th><td> 3</td><td>174888</td></tr>\n",
       "\t<tr><th scope=row>4</th><td> 4</td><td> 55795</td></tr>\n",
       "\t<tr><th scope=row>5</th><td> 5</td><td> 21810</td></tr>\n",
       "\t<tr><th scope=row>6</th><td> 6</td><td> 10633</td></tr>\n",
       "\t<tr><th scope=row>7</th><td> 7</td><td>  5564</td></tr>\n",
       "\t<tr><th scope=row>8</th><td> 8</td><td>  3058</td></tr>\n",
       "\t<tr><th scope=row>9</th><td> 9</td><td>  1963</td></tr>\n",
       "\t<tr><th scope=row>10</th><td>10</td><td>  1127</td></tr>\n",
       "\t<tr><th scope=row>11</th><td>11</td><td>   794</td></tr>\n",
       "\t<tr><th scope=row>12</th><td>12</td><td>   594</td></tr>\n",
       "\t<tr><th scope=row>13</th><td>13</td><td>   425</td></tr>\n",
       "\t<tr><th scope=row>14</th><td>14</td><td>   291</td></tr>\n",
       "\t<tr><th scope=row>15</th><td>15</td><td>   248</td></tr>\n",
       "\t<tr><th scope=row>16</th><td>16</td><td>   219</td></tr>\n",
       "\t<tr><th scope=row>17</th><td>17</td><td>   193</td></tr>\n",
       "\t<tr><th scope=row>18</th><td>20</td><td>   152</td></tr>\n",
       "\t<tr><th scope=row>19</th><td>18</td><td>   140</td></tr>\n",
       "\t<tr><th scope=row>20</th><td>19</td><td>   131</td></tr>\n",
       "</tbody>\n",
       "</table>\n"
      ],
      "text/latex": [
       "A data.frame: 20 × 2\n",
       "\\begin{tabular}{r|ll}\n",
       "  & num\\_words & n\\_searches\\\\\n",
       "  & <int> & <int>\\\\\n",
       "\\hline\n",
       "\t1 &  1 & 914678\\\\\n",
       "\t2 &  2 & 733311\\\\\n",
       "\t3 &  3 & 174888\\\\\n",
       "\t4 &  4 &  55795\\\\\n",
       "\t5 &  5 &  21810\\\\\n",
       "\t6 &  6 &  10633\\\\\n",
       "\t7 &  7 &   5564\\\\\n",
       "\t8 &  8 &   3058\\\\\n",
       "\t9 &  9 &   1963\\\\\n",
       "\t10 & 10 &   1127\\\\\n",
       "\t11 & 11 &    794\\\\\n",
       "\t12 & 12 &    594\\\\\n",
       "\t13 & 13 &    425\\\\\n",
       "\t14 & 14 &    291\\\\\n",
       "\t15 & 15 &    248\\\\\n",
       "\t16 & 16 &    219\\\\\n",
       "\t17 & 17 &    193\\\\\n",
       "\t18 & 20 &    152\\\\\n",
       "\t19 & 18 &    140\\\\\n",
       "\t20 & 19 &    131\\\\\n",
       "\\end{tabular}\n"
      ],
      "text/markdown": [
       "\n",
       "A data.frame: 20 × 2\n",
       "\n",
       "| <!--/--> | num_words &lt;int&gt; | n_searches &lt;int&gt; |\n",
       "|---|---|---|\n",
       "| 1 |  1 | 914678 |\n",
       "| 2 |  2 | 733311 |\n",
       "| 3 |  3 | 174888 |\n",
       "| 4 |  4 |  55795 |\n",
       "| 5 |  5 |  21810 |\n",
       "| 6 |  6 |  10633 |\n",
       "| 7 |  7 |   5564 |\n",
       "| 8 |  8 |   3058 |\n",
       "| 9 |  9 |   1963 |\n",
       "| 10 | 10 |   1127 |\n",
       "| 11 | 11 |    794 |\n",
       "| 12 | 12 |    594 |\n",
       "| 13 | 13 |    425 |\n",
       "| 14 | 14 |    291 |\n",
       "| 15 | 15 |    248 |\n",
       "| 16 | 16 |    219 |\n",
       "| 17 | 17 |    193 |\n",
       "| 18 | 20 |    152 |\n",
       "| 19 | 18 |    140 |\n",
       "| 20 | 19 |    131 |\n",
       "\n"
      ],
      "text/plain": [
       "   num_words n_searches\n",
       "1   1        914678    \n",
       "2   2        733311    \n",
       "3   3        174888    \n",
       "4   4         55795    \n",
       "5   5         21810    \n",
       "6   6         10633    \n",
       "7   7          5564    \n",
       "8   8          3058    \n",
       "9   9          1963    \n",
       "10 10          1127    \n",
       "11 11           794    \n",
       "12 12           594    \n",
       "13 13           425    \n",
       "14 14           291    \n",
       "15 15           248    \n",
       "16 16           219    \n",
       "17 17           193    \n",
       "18 20           152    \n",
       "19 18           140    \n",
       "20 19           131    "
      ]
     },
     "metadata": {},
     "output_type": "display_data"
    }
   ],
   "source": [
    "head(autocomplete_queries_wordcount, 20)"
   ]
  },
  {
   "cell_type": "code",
   "execution_count": 134,
   "metadata": {},
   "outputs": [
    {
     "data": {
      "text/html": [
       "<table>\n",
       "<caption>A data.frame: 10 × 3</caption>\n",
       "<thead>\n",
       "\t<tr><th></th><th scope=col>num_words</th><th scope=col>n_searches</th><th scope=col>prop_searches</th></tr>\n",
       "\t<tr><th></th><th scope=col>&lt;int&gt;</th><th scope=col>&lt;int&gt;</th><th scope=col>&lt;dbl&gt;</th></tr>\n",
       "</thead>\n",
       "<tbody>\n",
       "\t<tr><th scope=row>1</th><td> 1</td><td>914678</td><td>47.46</td></tr>\n",
       "\t<tr><th scope=row>2</th><td> 2</td><td>733311</td><td>38.05</td></tr>\n",
       "\t<tr><th scope=row>3</th><td> 3</td><td>174888</td><td> 9.07</td></tr>\n",
       "\t<tr><th scope=row>4</th><td> 4</td><td> 55795</td><td> 2.90</td></tr>\n",
       "\t<tr><th scope=row>5</th><td> 5</td><td> 21810</td><td> 1.13</td></tr>\n",
       "\t<tr><th scope=row>6</th><td> 6</td><td> 10633</td><td> 0.55</td></tr>\n",
       "\t<tr><th scope=row>7</th><td> 7</td><td>  5564</td><td> 0.29</td></tr>\n",
       "\t<tr><th scope=row>8</th><td> 8</td><td>  3058</td><td> 0.16</td></tr>\n",
       "\t<tr><th scope=row>9</th><td> 9</td><td>  1963</td><td> 0.10</td></tr>\n",
       "\t<tr><th scope=row>10</th><td>10</td><td>  1127</td><td> 0.06</td></tr>\n",
       "</tbody>\n",
       "</table>\n"
      ],
      "text/latex": [
       "A data.frame: 10 × 3\n",
       "\\begin{tabular}{r|lll}\n",
       "  & num\\_words & n\\_searches & prop\\_searches\\\\\n",
       "  & <int> & <int> & <dbl>\\\\\n",
       "\\hline\n",
       "\t1 &  1 & 914678 & 47.46\\\\\n",
       "\t2 &  2 & 733311 & 38.05\\\\\n",
       "\t3 &  3 & 174888 &  9.07\\\\\n",
       "\t4 &  4 &  55795 &  2.90\\\\\n",
       "\t5 &  5 &  21810 &  1.13\\\\\n",
       "\t6 &  6 &  10633 &  0.55\\\\\n",
       "\t7 &  7 &   5564 &  0.29\\\\\n",
       "\t8 &  8 &   3058 &  0.16\\\\\n",
       "\t9 &  9 &   1963 &  0.10\\\\\n",
       "\t10 & 10 &   1127 &  0.06\\\\\n",
       "\\end{tabular}\n"
      ],
      "text/markdown": [
       "\n",
       "A data.frame: 10 × 3\n",
       "\n",
       "| <!--/--> | num_words &lt;int&gt; | n_searches &lt;int&gt; | prop_searches &lt;dbl&gt; |\n",
       "|---|---|---|---|\n",
       "| 1 |  1 | 914678 | 47.46 |\n",
       "| 2 |  2 | 733311 | 38.05 |\n",
       "| 3 |  3 | 174888 |  9.07 |\n",
       "| 4 |  4 |  55795 |  2.90 |\n",
       "| 5 |  5 |  21810 |  1.13 |\n",
       "| 6 |  6 |  10633 |  0.55 |\n",
       "| 7 |  7 |   5564 |  0.29 |\n",
       "| 8 |  8 |   3058 |  0.16 |\n",
       "| 9 |  9 |   1963 |  0.10 |\n",
       "| 10 | 10 |   1127 |  0.06 |\n",
       "\n"
      ],
      "text/plain": [
       "   num_words n_searches prop_searches\n",
       "1   1        914678     47.46        \n",
       "2   2        733311     38.05        \n",
       "3   3        174888      9.07        \n",
       "4   4         55795      2.90        \n",
       "5   5         21810      1.13        \n",
       "6   6         10633      0.55        \n",
       "7   7          5564      0.29        \n",
       "8   8          3058      0.16        \n",
       "9   9          1963      0.10        \n",
       "10 10          1127      0.06        "
      ]
     },
     "metadata": {},
     "output_type": "display_data"
    }
   ],
   "source": [
    "autocomplete_queries_wordcount_prop <- autocomplete_queries_wordcount %>%\n",
    "    mutate(prop_searches = round(n_searches/sum(n_searches) *100, 2))\n",
    "\n",
    "head(autocomplete_queries_wordcount_prop, 10)"
   ]
  },
  {
   "cell_type": "markdown",
   "metadata": {},
   "source": [
    "One word or two word searches account for 85.5% of autocomplete searches. One word searches are conducted more frequently (by 24.7%) than two word searches."
   ]
  }
 ],
 "metadata": {
  "kernelspec": {
   "display_name": "R",
   "language": "R",
   "name": "ir"
  },
  "language_info": {
   "codemirror_mode": "r",
   "file_extension": ".r",
   "mimetype": "text/x-r-source",
   "name": "R",
   "pygments_lexer": "r",
   "version": "3.5.2"
  }
 },
 "nbformat": 4,
 "nbformat_minor": 4
}

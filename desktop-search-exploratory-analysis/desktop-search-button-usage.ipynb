{
 "cells": [
  {
   "cell_type": "markdown",
   "metadata": {},
   "source": [
    "# Desktop Search Exploratory Analysis - August 2020\n",
    "[Task](https://phabricator.wikimedia.org/T259766)\n",
    "\n",
    "The Web team is making serveral changes to search as part of the Desktop Improvements Project. These changes include moving the location of the search in the header and changes the search widget using vue.js. Prior to making those changes, the team is interested in how search is currently used on desktop to inform the design of these new seach changes.\n",
    "\n",
    "Data comes from the [SearchSatisfaction](https://meta.wikimedia.org/wiki/Schema:SearchSatisfaction) schema, which includes all search events on desktop. Reviewed the time period from 01 January 2020 to 13 August 2020. Any bots or users currently in a subtest were removed from the reviewed data."
   ]
  },
  {
   "cell_type": "markdown",
   "metadata": {},
   "source": [
    "# Metrics\n",
    "\n",
    "- what percentage of submitted searches are submitted via the button (search icon)?\n",
    "- how often is the button clicked with the search box empty?\n",
    "- How often do people enter text in the search box versus the advanced page search main input?"
   ]
  },
  {
   "cell_type": "markdown",
   "metadata": {},
   "source": [
    "# What percentage of searches are submitted via the button?"
   ]
  },
  {
   "cell_type": "markdown",
   "metadata": {},
   "source": [
    "## Approach"
   ]
  },
  {
   "cell_type": "markdown",
   "metadata": {},
   "source": [
    "Searches submitted using the search button (not clicking an autcomplete result in the dropdown menu) are logged as action: \"click\" and position: -1. Note: This also includes users who type and press enter since current instrumentation does not differentiate between these two actions.\n",
    "\n",
    "Searches submitted by clicking an autcomplete result in the dropdown menu are logged as action: click: and position >=0.\n"
   ]
  },
  {
   "cell_type": "code",
   "execution_count": 153,
   "metadata": {},
   "outputs": [],
   "source": [
    "shhh <- function(expr) suppressPackageStartupMessages(suppressWarnings(suppressMessages(expr)))\n",
    "shhh({\n",
    "    library(tidyverse); library(wmfdata)\n",
    "})"
   ]
  },
  {
   "cell_type": "markdown",
   "metadata": {},
   "source": [
    "## What percent of all search clicks are submitted via the button?"
   ]
  },
  {
   "cell_type": "code",
   "execution_count": 110,
   "metadata": {},
   "outputs": [],
   "source": [
    "\n",
    "query <- \"\n",
    "SELECT\n",
    "    SUM(CAST(event.position = -1 AS INT)) AS search_button_clicks,\n",
    "    SUM(CAST(event.position >= 0 AS INT)) AS autocomplete_clicks,\n",
    "    COUNT(*) AS all_search_clicks\n",
    "FROM event.searchSatisfaction\n",
    "WHERE \n",
    "    year = 2020 \n",
    "    AND (month <= 07 OR (month =08 AND day <= 13))\n",
    "--isolate to search click events \n",
    "    AND event.action = 'click' \n",
    "-- remove bots\n",
    "    AND useragent.is_bot = false \n",
    "-- remove users in any sub test\n",
    "    AND event.subTest IS NULL\n",
    "\""
   ]
  },
  {
   "cell_type": "code",
   "execution_count": 111,
   "metadata": {},
   "outputs": [
    {
     "name": "stderr",
     "output_type": "stream",
     "text": [
      "Don't forget to authenticate with Kerberos using kinit\n",
      "\n"
     ]
    }
   ],
   "source": [
    "search_events_bysubmissiontype <-  wmfdata::query_hive(query)"
   ]
  },
  {
   "cell_type": "code",
   "execution_count": 113,
   "metadata": {},
   "outputs": [
    {
     "data": {
      "text/html": [
       "<table>\n",
       "<caption>A data.frame: 3 × 3</caption>\n",
       "<thead>\n",
       "\t<tr><th scope=col>submission_type</th><th scope=col>num_events</th><th scope=col>prop_clicks</th></tr>\n",
       "\t<tr><th scope=col>&lt;chr&gt;</th><th scope=col>&lt;int&gt;</th><th scope=col>&lt;dbl&gt;</th></tr>\n",
       "</thead>\n",
       "<tbody>\n",
       "\t<tr><td>search_button_clicks</td><td> 86241201</td><td> 48.38048</td></tr>\n",
       "\t<tr><td>autocomplete_clicks </td><td> 92014979</td><td> 51.61952</td></tr>\n",
       "\t<tr><td>all_search_clicks   </td><td>178256180</td><td>100.00000</td></tr>\n",
       "</tbody>\n",
       "</table>\n"
      ],
      "text/latex": [
       "A data.frame: 3 × 3\n",
       "\\begin{tabular}{lll}\n",
       " submission\\_type & num\\_events & prop\\_clicks\\\\\n",
       " <chr> & <int> & <dbl>\\\\\n",
       "\\hline\n",
       "\t search\\_button\\_clicks &  86241201 &  48.38048\\\\\n",
       "\t autocomplete\\_clicks  &  92014979 &  51.61952\\\\\n",
       "\t all\\_search\\_clicks    & 178256180 & 100.00000\\\\\n",
       "\\end{tabular}\n"
      ],
      "text/markdown": [
       "\n",
       "A data.frame: 3 × 3\n",
       "\n",
       "| submission_type &lt;chr&gt; | num_events &lt;int&gt; | prop_clicks &lt;dbl&gt; |\n",
       "|---|---|---|\n",
       "| search_button_clicks |  86241201 |  48.38048 |\n",
       "| autocomplete_clicks  |  92014979 |  51.61952 |\n",
       "| all_search_clicks    | 178256180 | 100.00000 |\n",
       "\n"
      ],
      "text/plain": [
       "  submission_type      num_events prop_clicks\n",
       "1 search_button_clicks  86241201   48.38048  \n",
       "2 autocomplete_clicks   92014979   51.61952  \n",
       "3 all_search_clicks    178256180  100.00000  "
      ]
     },
     "metadata": {},
     "output_type": "display_data"
    }
   ],
   "source": [
    "search_events_prop_bysubmissiontype <- search_events_bysubmissiontype %>%\n",
    "    gather(submission_type, num_events, 1:3) %>%\n",
    "    mutate(prop_clicks = num_events/search_events_bysubmissiontype$all_search_clicks * 100) \n",
    "\n",
    "search_events_prop_bysubmissiontype"
   ]
  },
  {
   "cell_type": "markdown",
   "metadata": {},
   "source": [
    "From January through August 13, 2020, a little under half (**48.38%**) of all search submissions using the search widget are completed by clicking on the search icon (or pressing enter). The remainder of all search submissions are completed by selecting one of the results in the drop down menu. \n"
   ]
  },
  {
   "cell_type": "markdown",
   "metadata": {},
   "source": [
    "## What percent of search submission sessions include a search button click?"
   ]
  },
  {
   "cell_type": "code",
   "execution_count": 114,
   "metadata": {},
   "outputs": [],
   "source": [
    "\n",
    "query <-\n",
    "\"\n",
    "SELECT\n",
    "    SUM(CAST(search_click = true AS INT)) AS search_button_click_sessions,\n",
    "    SUM(CAST(autocomplete_click = true AS INT)) AS autcomplete_click_sessions,\n",
    "    COUNT(search_session) AS all_click_sessions\n",
    "FROM\n",
    "(\n",
    "SELECT\n",
    "    SUM(CAST(event.position = -1 AS INT)) >= 1 AS search_click,\n",
    "    SUM(CAST(event.position >= 0 AS INT)) >= 1 AS autocomplete_click,\n",
    "    event.searchsessionID AS search_session\n",
    "FROM event.searchSatisfaction\n",
    "WHERE \n",
    "     year = 2020 \n",
    "    AND (month <= 07 OR (month =08 AND day <= 13))\n",
    "-- review only sessions where a search was submitted\n",
    "    AND event.action = 'click' \n",
    "-- Remove bots\n",
    "    AND useragent.is_bot = false \n",
    "    AND event.subTest IS NULL \n",
    "GROUP BY event.searchsessionID\n",
    ") AS search\n",
    "\""
   ]
  },
  {
   "cell_type": "code",
   "execution_count": 115,
   "metadata": {},
   "outputs": [
    {
     "name": "stderr",
     "output_type": "stream",
     "text": [
      "Don't forget to authenticate with Kerberos using kinit\n",
      "\n"
     ]
    }
   ],
   "source": [
    "search_sessions_bysubmissiontype <-  wmfdata::query_hive(query)"
   ]
  },
  {
   "cell_type": "code",
   "execution_count": 116,
   "metadata": {},
   "outputs": [
    {
     "data": {
      "text/html": [
       "<table>\n",
       "<caption>A data.frame: 1 × 3</caption>\n",
       "<thead>\n",
       "\t<tr><th scope=col>search_button_click_sessions</th><th scope=col>autcomplete_click_sessions</th><th scope=col>all_click_sessions</th></tr>\n",
       "\t<tr><th scope=col>&lt;int&gt;</th><th scope=col>&lt;int&gt;</th><th scope=col>&lt;int&gt;</th></tr>\n",
       "</thead>\n",
       "<tbody>\n",
       "\t<tr><td>49306614</td><td>54168267</td><td>85899868</td></tr>\n",
       "</tbody>\n",
       "</table>\n"
      ],
      "text/latex": [
       "A data.frame: 1 × 3\n",
       "\\begin{tabular}{lll}\n",
       " search\\_button\\_click\\_sessions & autcomplete\\_click\\_sessions & all\\_click\\_sessions\\\\\n",
       " <int> & <int> & <int>\\\\\n",
       "\\hline\n",
       "\t 49306614 & 54168267 & 85899868\\\\\n",
       "\\end{tabular}\n"
      ],
      "text/markdown": [
       "\n",
       "A data.frame: 1 × 3\n",
       "\n",
       "| search_button_click_sessions &lt;int&gt; | autcomplete_click_sessions &lt;int&gt; | all_click_sessions &lt;int&gt; |\n",
       "|---|---|---|\n",
       "| 49306614 | 54168267 | 85899868 |\n",
       "\n"
      ],
      "text/plain": [
       "  search_button_click_sessions autcomplete_click_sessions all_click_sessions\n",
       "1 49306614                     54168267                   85899868          "
      ]
     },
     "metadata": {},
     "output_type": "display_data"
    }
   ],
   "source": [
    "search_sessions_bysubmissiontype"
   ]
  },
  {
   "cell_type": "code",
   "execution_count": 118,
   "metadata": {},
   "outputs": [
    {
     "data": {
      "text/html": [
       "<table>\n",
       "<caption>A data.frame: 3 × 3</caption>\n",
       "<thead>\n",
       "\t<tr><th scope=col>submission_type</th><th scope=col>num_sessions</th><th scope=col>prop_click_sessions</th></tr>\n",
       "\t<tr><th scope=col>&lt;chr&gt;</th><th scope=col>&lt;int&gt;</th><th scope=col>&lt;dbl&gt;</th></tr>\n",
       "</thead>\n",
       "<tbody>\n",
       "\t<tr><td>search_button_click_sessions</td><td>49306614</td><td> 57.40010</td></tr>\n",
       "\t<tr><td>autcomplete_click_sessions  </td><td>54168267</td><td> 63.05978</td></tr>\n",
       "\t<tr><td>all_click_sessions          </td><td>85899868</td><td>100.00000</td></tr>\n",
       "</tbody>\n",
       "</table>\n"
      ],
      "text/latex": [
       "A data.frame: 3 × 3\n",
       "\\begin{tabular}{lll}\n",
       " submission\\_type & num\\_sessions & prop\\_click\\_sessions\\\\\n",
       " <chr> & <int> & <dbl>\\\\\n",
       "\\hline\n",
       "\t search\\_button\\_click\\_sessions & 49306614 &  57.40010\\\\\n",
       "\t autcomplete\\_click\\_sessions   & 54168267 &  63.05978\\\\\n",
       "\t all\\_click\\_sessions           & 85899868 & 100.00000\\\\\n",
       "\\end{tabular}\n"
      ],
      "text/markdown": [
       "\n",
       "A data.frame: 3 × 3\n",
       "\n",
       "| submission_type &lt;chr&gt; | num_sessions &lt;int&gt; | prop_click_sessions &lt;dbl&gt; |\n",
       "|---|---|---|\n",
       "| search_button_click_sessions | 49306614 |  57.40010 |\n",
       "| autcomplete_click_sessions   | 54168267 |  63.05978 |\n",
       "| all_click_sessions           | 85899868 | 100.00000 |\n",
       "\n"
      ],
      "text/plain": [
       "  submission_type              num_sessions prop_click_sessions\n",
       "1 search_button_click_sessions 49306614      57.40010          \n",
       "2 autcomplete_click_sessions   54168267      63.05978          \n",
       "3 all_click_sessions           85899868     100.00000          "
      ]
     },
     "metadata": {},
     "output_type": "display_data"
    }
   ],
   "source": [
    "search_sessions_prop_bysubmissiontype <- search_sessions_bysubmissiontype %>%\n",
    "    gather(submission_type, num_sessions, 1:3) %>%\n",
    "    mutate(prop_click_sessions = num_sessions/search_sessions_bysubmissiontype$all_click_sessions * 100) \n",
    "\n",
    "search_sessions_prop_bysubmissiontype"
   ]
  },
  {
   "cell_type": "markdown",
   "metadata": {},
   "source": [
    "57.4% of all search click sessions included a click on the search button.  \n",
    "\n",
    "Note: Some search sessions can include both a search conducted by submitting the form and by selecting an autcomplete result, which is why the number of sessions for each adds up to more than the total."
   ]
  },
  {
   "cell_type": "markdown",
   "metadata": {},
   "source": [
    "# How often is the button clicked with the search box empty?"
   ]
  },
  {
   "cell_type": "markdown",
   "metadata": {},
   "source": [
    "## Approach\n",
    "\n",
    "A search session does not start (and data not recorded) until a user starts to enter text into the search widget. We do not record users who click the search button with a blank text box if they have not already started a search session. After starting a session begins, if a user presses the search button again (or presses enter) with the search box empty, they are taken to the Advanced Search Page with no results shown. This is recorded in teh data sets as action: \"visitPage\", position: -1, and query is NULL. \n"
   ]
  },
  {
   "cell_type": "markdown",
   "metadata": {},
   "source": [
    "## What percent of events are clicked with the search box empty"
   ]
  },
  {
   "cell_type": "markdown",
   "metadata": {},
   "source": [
    "## What percent of all search events are blank search page events?"
   ]
  },
  {
   "cell_type": "code",
   "execution_count": null,
   "metadata": {},
   "outputs": [],
   "source": [
    "\n",
    "\n",
    "query <-\n",
    "\"\n",
    "-- find sessions that clicked the search button without text\n",
    "WITH blank_input_sessions AS (\n",
    "SELECT \n",
    "    DISTINCT event.searchsessionID as session_id_noinput\n",
    "FROM event.searchSatisfaction\n",
    "WHERE\n",
    "    event.position = -1\n",
    "    AND event.action = 'visitPage'\n",
    "    AND event.query IS NULL\n",
    "    AND event.source = 'autocomplete'\n",
    "    AND year = 2020 AND month = 08 AND day = 03\n",
    "    AND useragent.is_bot = false \n",
    "    AND event.subTest IS NULL \n",
    ")\n",
    "-- find all submitted searches - event.action = 'click'\n",
    "SELECT\n",
    "    SUM(CAST(session_id_noinput is not NULL AS int)) AS blank_input_clicks,\n",
    "    COUNT(*) AS all_search_button_clicks\n",
    "    FROM\n",
    "    event.searchSatisfaction \n",
    "    LEFT JOIN blank_input_sessions ON event.searchsessionID = blank_input_sessions.session_id_noinput\n",
    "    WHERE\n",
    "    year = 2020 AND month = 08 AND day = 03\n",
    "    AND useragent.is_bot = false \n",
    "    AND event.subTest IS NULL \n",
    "-- isolate to only searches submitted via the button or pressing enter\n",
    "    AND event.position = -1\n",
    "    AND event.action = 'click'\n",
    "\"\n",
    "\n"
   ]
  },
  {
   "cell_type": "code",
   "execution_count": 54,
   "metadata": {},
   "outputs": [
    {
     "name": "stderr",
     "output_type": "stream",
     "text": [
      "Don't forget to authenticate with Kerberos using kinit\n",
      "\n"
     ]
    }
   ],
   "source": [
    "noinput_search_clicks <-  wmfdata::query_hive(query)"
   ]
  },
  {
   "cell_type": "code",
   "execution_count": 121,
   "metadata": {},
   "outputs": [
    {
     "data": {
      "text/html": [
       "<table>\n",
       "<caption>A data.frame: 1 × 3</caption>\n",
       "<thead>\n",
       "\t<tr><th scope=col>blank_search_event</th><th scope=col>all_search_events</th><th scope=col>prop_search_events</th></tr>\n",
       "\t<tr><th scope=col>&lt;int&gt;</th><th scope=col>&lt;int&gt;</th><th scope=col>&lt;dbl&gt;</th></tr>\n",
       "</thead>\n",
       "<tbody>\n",
       "\t<tr><td>10559690</td><td>1114299211</td><td>0.947653</td></tr>\n",
       "</tbody>\n",
       "</table>\n"
      ],
      "text/latex": [
       "A data.frame: 1 × 3\n",
       "\\begin{tabular}{lll}\n",
       " blank\\_search\\_event & all\\_search\\_events & prop\\_search\\_events\\\\\n",
       " <int> & <int> & <dbl>\\\\\n",
       "\\hline\n",
       "\t 10559690 & 1114299211 & 0.947653\\\\\n",
       "\\end{tabular}\n"
      ],
      "text/markdown": [
       "\n",
       "A data.frame: 1 × 3\n",
       "\n",
       "| blank_search_event &lt;int&gt; | all_search_events &lt;int&gt; | prop_search_events &lt;dbl&gt; |\n",
       "|---|---|---|\n",
       "| 10559690 | 1114299211 | 0.947653 |\n",
       "\n"
      ],
      "text/plain": [
       "  blank_search_event all_search_events prop_search_events\n",
       "1 10559690           1114299211        0.947653          "
      ]
     },
     "metadata": {},
     "output_type": "display_data"
    }
   ],
   "source": [
    "noinput_search_clicks_prop <- noinput_search_clicks  %>%\n",
    "    mutate(prop_search_events = blank_search_event/all_search_events * 100)\n",
    "\n",
    "noinput_search_clicks_prop"
   ]
  },
  {
   "cell_type": "markdown",
   "metadata": {},
   "source": [
    "Searches made with the search box empty account for only 0.94% of all search events. "
   ]
  },
  {
   "cell_type": "markdown",
   "metadata": {},
   "source": [
    "## What percent of all search sessions included a no text input search?"
   ]
  },
  {
   "cell_type": "code",
   "execution_count": 137,
   "metadata": {},
   "outputs": [],
   "source": [
    "query <-\n",
    "\"\n",
    "WITH blank_input_sessions AS (\n",
    "SELECT \n",
    "    DISTINCT event.searchsessionID as session_id_noinput\n",
    "FROM event.searchSatisfaction\n",
    "WHERE\n",
    "    event.position = -1\n",
    "    AND event.action = 'visitPage'\n",
    "    AND event.query IS NULL\n",
    "    AND event.source = 'autocomplete'\n",
    "    AND year = 2020 \n",
    "    AND (month <= 07 OR (month =08 AND day <= 13))\n",
    "    AND useragent.is_bot = false \n",
    "    AND event.subTest IS NULL \n",
    ")\n",
    "-- Main Query --\n",
    "SELECT\n",
    "    SUM(CAST(session_id_noinput is not NULL AS int)) AS blank_search_sessions,\n",
    "    COUNT(all_session_id) AS all_search_sessions\n",
    "FROM (\n",
    "    SELECT\n",
    "        event.searchsessionID as all_session_id,\n",
    "        session_id_noinput\n",
    "    FROM\n",
    "    event.searchSatisfaction AS ss\n",
    "    LEFT JOIN blank_input_sessions ON event.searchsessionID = blank_input_sessions.session_id_noinput\n",
    "    WHERE\n",
    "    year = 2020 \n",
    "    AND (month <= 07 OR (month =08 AND day <= 13))\n",
    "    AND useragent.is_bot = false \n",
    "    AND event.subTest IS NULL \n",
    "    GROUP BY event.searchsessionID,\n",
    "    session_id_noinput\n",
    ") all_sessions\n",
    "\""
   ]
  },
  {
   "cell_type": "code",
   "execution_count": 138,
   "metadata": {},
   "outputs": [
    {
     "name": "stderr",
     "output_type": "stream",
     "text": [
      "Don't forget to authenticate with Kerberos using kinit\n",
      "\n"
     ]
    }
   ],
   "source": [
    "noinput_search_sessions <-  wmfdata::query_hive(query)"
   ]
  },
  {
   "cell_type": "code",
   "execution_count": 139,
   "metadata": {},
   "outputs": [
    {
     "data": {
      "text/html": [
       "<table>\n",
       "<caption>A data.frame: 1 × 3</caption>\n",
       "<thead>\n",
       "\t<tr><th scope=col>blank_search_sessions</th><th scope=col>all_search_sessions</th><th scope=col>prop_search_sessions</th></tr>\n",
       "\t<tr><th scope=col>&lt;int&gt;</th><th scope=col>&lt;int&gt;</th><th scope=col>&lt;dbl&gt;</th></tr>\n",
       "</thead>\n",
       "<tbody>\n",
       "\t<tr><td>5094097</td><td>92000595</td><td>5.537026</td></tr>\n",
       "</tbody>\n",
       "</table>\n"
      ],
      "text/latex": [
       "A data.frame: 1 × 3\n",
       "\\begin{tabular}{lll}\n",
       " blank\\_search\\_sessions & all\\_search\\_sessions & prop\\_search\\_sessions\\\\\n",
       " <int> & <int> & <dbl>\\\\\n",
       "\\hline\n",
       "\t 5094097 & 92000595 & 5.537026\\\\\n",
       "\\end{tabular}\n"
      ],
      "text/markdown": [
       "\n",
       "A data.frame: 1 × 3\n",
       "\n",
       "| blank_search_sessions &lt;int&gt; | all_search_sessions &lt;int&gt; | prop_search_sessions &lt;dbl&gt; |\n",
       "|---|---|---|\n",
       "| 5094097 | 92000595 | 5.537026 |\n",
       "\n"
      ],
      "text/plain": [
       "  blank_search_sessions all_search_sessions prop_search_sessions\n",
       "1 5094097               92000595            5.537026            "
      ]
     },
     "metadata": {},
     "output_type": "display_data"
    }
   ],
   "source": [
    "noinput_search_sessions_prop <- noinput_search_sessions   %>%\n",
    "    mutate(prop_search_sessions = blank_search_sessions/all_search_sessions * 100)\n",
    "\n",
    "noinput_search_sessions_prop"
   ]
  },
  {
   "cell_type": "markdown",
   "metadata": {},
   "source": [
    "## What percent of click button search sessions included a no text input search ?"
   ]
  },
  {
   "cell_type": "code",
   "execution_count": 141,
   "metadata": {},
   "outputs": [],
   "source": [
    "\n",
    "query <-\n",
    "\"\n",
    "WITH blank_input_sessions AS (\n",
    "SELECT \n",
    "    DISTINCT event.searchsessionID as session_id_noinput\n",
    "FROM event.searchSatisfaction\n",
    "WHERE\n",
    "    event.position = -1\n",
    "    AND event.action = 'visitPage'\n",
    "    AND event.query IS NULL\n",
    "    AND event.source = 'autocomplete'\n",
    "    AND year = 2020 \n",
    "    AND (month <= 07 OR (month =08 AND day <= 13))\n",
    "    AND useragent.is_bot = false \n",
    "    AND event.subTest IS NULL \n",
    ")\n",
    "-- Main Query --\n",
    "SELECT\n",
    "    SUM(CAST(session_id_noinput is not NULL AS int)) AS blank_search_sessions,\n",
    "    COUNT(all_session_id) AS all_search_click_sessions\n",
    "FROM (\n",
    "    SELECT\n",
    "        event.searchsessionID as all_session_id,\n",
    "        session_id_noinput\n",
    "    FROM\n",
    "    event.searchSatisfaction AS ss\n",
    "    LEFT JOIN blank_input_sessions ON event.searchsessionID = blank_input_sessions.session_id_noinput\n",
    "    WHERE\n",
    "    year = 2020 \n",
    "    AND (month <= 07 OR (month =08 AND day <= 13))\n",
    "    AND useragent.is_bot = false \n",
    "--limit to only sessions with searches submitted via the button\n",
    "    AND event.action = 'click'\n",
    "    AND event.position = -1\n",
    "    AND event.source = 'autocomplete'\n",
    "    AND event.subTest IS NULL \n",
    "    GROUP BY event.searchsessionID,\n",
    "    session_id_noinput\n",
    ") all_sessions\n",
    "\""
   ]
  },
  {
   "cell_type": "code",
   "execution_count": 142,
   "metadata": {},
   "outputs": [
    {
     "name": "stderr",
     "output_type": "stream",
     "text": [
      "Don't forget to authenticate with Kerberos using kinit\n",
      "\n"
     ]
    }
   ],
   "source": [
    "noinput_search_click_sessions <-  wmfdata::query_hive(query)"
   ]
  },
  {
   "cell_type": "code",
   "execution_count": 144,
   "metadata": {},
   "outputs": [
    {
     "data": {
      "text/html": [
       "<table>\n",
       "<caption>A data.frame: 1 × 3</caption>\n",
       "<thead>\n",
       "\t<tr><th scope=col>blank_search_sessions</th><th scope=col>all_search_click_sessions</th><th scope=col>prop_search_sessions</th></tr>\n",
       "\t<tr><th scope=col>&lt;int&gt;</th><th scope=col>&lt;int&gt;</th><th scope=col>&lt;dbl&gt;</th></tr>\n",
       "</thead>\n",
       "<tbody>\n",
       "\t<tr><td>5073389</td><td>49306614</td><td>10.28947</td></tr>\n",
       "</tbody>\n",
       "</table>\n"
      ],
      "text/latex": [
       "A data.frame: 1 × 3\n",
       "\\begin{tabular}{lll}\n",
       " blank\\_search\\_sessions & all\\_search\\_click\\_sessions & prop\\_search\\_sessions\\\\\n",
       " <int> & <int> & <dbl>\\\\\n",
       "\\hline\n",
       "\t 5073389 & 49306614 & 10.28947\\\\\n",
       "\\end{tabular}\n"
      ],
      "text/markdown": [
       "\n",
       "A data.frame: 1 × 3\n",
       "\n",
       "| blank_search_sessions &lt;int&gt; | all_search_click_sessions &lt;int&gt; | prop_search_sessions &lt;dbl&gt; |\n",
       "|---|---|---|\n",
       "| 5073389 | 49306614 | 10.28947 |\n",
       "\n"
      ],
      "text/plain": [
       "  blank_search_sessions all_search_click_sessions prop_search_sessions\n",
       "1 5073389               49306614                  10.28947            "
      ]
     },
     "metadata": {},
     "output_type": "display_data"
    }
   ],
   "source": [
    "noinput_search_click_sessions_prop <- noinput_search_click_sessions  %>%\n",
    "    mutate(prop_search_sessions = blank_search_sessions/all_search_click_sessions * 100)\n",
    "\n",
    "noinput_search_click_sessions_prop"
   ]
  },
  {
   "cell_type": "markdown",
   "metadata": {},
   "source": [
    "In **5.54%** of all search sessions and **10.29%** of search sessions where the search button was clicked, a user clicked the search button (or pressed enter) with no input in the search box. "
   ]
  },
  {
   "cell_type": "markdown",
   "metadata": {},
   "source": [
    "# Where are searches conducted (search widget vs advanced search page)?"
   ]
  },
  {
   "cell_type": "markdown",
   "metadata": {},
   "source": [
    "## What percent of searches are submitted on the Advanced Search Page vs the Search widget?\n",
    "\n",
    "When a user starts typing in the search widget, the following is recorded: action: \"searchResultPage\", inputLocation = \"header\", source = \"autocomplete\"\n",
    "When a user starts typing in the advanced search page, the following is recorded: action: \"searchResultPage\", inputLocation = \"content\", source = \"autocomplete\"\n"
   ]
  },
  {
   "cell_type": "code",
   "execution_count": 145,
   "metadata": {},
   "outputs": [],
   "source": [
    "# Searches conducted on header (widget) vs Advanced search page\n",
    "query <- \"\n",
    "SELECT\n",
    "    SUM(CAST(event.inputLocation = 'header' AS INT)) AS search_widget_events,\n",
    "    SUM(CAST(event.inputLocation = 'content'  AS INT)) AS adv_search_events,\n",
    "    COUNT(*) AS all_search_input_events\n",
    "FROM event.searchSatisfaction\n",
    "WHERE \n",
    "    year = 2020 \n",
    "    AND (month <= 07 OR (month =08 AND day <= 13)) \n",
    "--isolate to autocomplete search events - logged when someone starts typing\n",
    "    AND event.source = 'autocomplete'\n",
    "    AND event.action = 'searchResultPage'\n",
    "    AND event.inputLocation IN ('header', 'content')\n",
    "-- remove bots\n",
    "    AND useragent.is_bot = false \n",
    "-- remove users in any sub test\n",
    "    AND event.subTest IS NULL\n",
    "\""
   ]
  },
  {
   "cell_type": "code",
   "execution_count": 146,
   "metadata": {},
   "outputs": [
    {
     "name": "stderr",
     "output_type": "stream",
     "text": [
      "Don't forget to authenticate with Kerberos using kinit\n",
      "\n"
     ]
    }
   ],
   "source": [
    "search_events_bylocation <-  wmfdata::query_hive(query)"
   ]
  },
  {
   "cell_type": "code",
   "execution_count": 148,
   "metadata": {},
   "outputs": [
    {
     "data": {
      "text/html": [
       "<table>\n",
       "<caption>A data.frame: 3 × 3</caption>\n",
       "<thead>\n",
       "\t<tr><th scope=col>location_type</th><th scope=col>num_events</th><th scope=col>prop_search_events</th></tr>\n",
       "\t<tr><th scope=col>&lt;chr&gt;</th><th scope=col>&lt;int&gt;</th><th scope=col>&lt;dbl&gt;</th></tr>\n",
       "</thead>\n",
       "<tbody>\n",
       "\t<tr><td>search_widget_events   </td><td>503171135</td><td> 86.00306</td></tr>\n",
       "\t<tr><td>adv_search_events      </td><td> 81890747</td><td> 13.99694</td></tr>\n",
       "\t<tr><td>all_search_input_events</td><td>585061882</td><td>100.00000</td></tr>\n",
       "</tbody>\n",
       "</table>\n"
      ],
      "text/latex": [
       "A data.frame: 3 × 3\n",
       "\\begin{tabular}{lll}\n",
       " location\\_type & num\\_events & prop\\_search\\_events\\\\\n",
       " <chr> & <int> & <dbl>\\\\\n",
       "\\hline\n",
       "\t search\\_widget\\_events    & 503171135 &  86.00306\\\\\n",
       "\t adv\\_search\\_events       &  81890747 &  13.99694\\\\\n",
       "\t all\\_search\\_input\\_events & 585061882 & 100.00000\\\\\n",
       "\\end{tabular}\n"
      ],
      "text/markdown": [
       "\n",
       "A data.frame: 3 × 3\n",
       "\n",
       "| location_type &lt;chr&gt; | num_events &lt;int&gt; | prop_search_events &lt;dbl&gt; |\n",
       "|---|---|---|\n",
       "| search_widget_events    | 503171135 |  86.00306 |\n",
       "| adv_search_events       |  81890747 |  13.99694 |\n",
       "| all_search_input_events | 585061882 | 100.00000 |\n",
       "\n"
      ],
      "text/plain": [
       "  location_type           num_events prop_search_events\n",
       "1 search_widget_events    503171135   86.00306         \n",
       "2 adv_search_events        81890747   13.99694         \n",
       "3 all_search_input_events 585061882  100.00000         "
      ]
     },
     "metadata": {},
     "output_type": "display_data"
    }
   ],
   "source": [
    "search_events_prop_bylocation <- search_events_bylocation %>%\n",
    "    gather(location_type, num_events, 1:3) %>%\n",
    "    mutate(prop_search_events = num_events/search_events_bylocation$all_search_input_events * 100) \n",
    "\n",
    "search_events_prop_bylocation"
   ]
  },
  {
   "cell_type": "markdown",
   "metadata": {},
   "source": [
    "## What percent of search sessions includes searches on Advanced Search Page or Search Widget?"
   ]
  },
  {
   "cell_type": "code",
   "execution_count": 149,
   "metadata": {},
   "outputs": [],
   "source": [
    "query <-\n",
    "\"\n",
    "SELECT\n",
    "    SUM(CAST(search_widget_event = true AS INT)) AS search_widget_sessions,\n",
    "    SUM(CAST(adv_search_event = true AS INT)) AS adv_search_sessions,\n",
    "    COUNT(search_session) AS all_sessions\n",
    "FROM\n",
    "(\n",
    "SELECT\n",
    "    SUM(CAST(event.inputLocation = 'header' AS INT)) >= 1 AS search_widget_event,\n",
    "    SUM(CAST(event.inputLocation = 'content' AS INT)) >= 1 AS adv_search_event,\n",
    "    event.searchsessionID AS search_session\n",
    "FROM event.searchSatisfaction\n",
    "WHERE \n",
    "    year = 2020 \n",
    "    AND (month <= 07 OR (month =08 AND day <= 13)) \n",
    "--isolate to autocomplete search sessions - logged when someone starts typing\n",
    "    AND event.source = 'autocomplete'\n",
    "    AND event.action = 'searchResultPage'\n",
    "    AND event.inputLocation IN ('header', 'content')\n",
    "-- remove bots\n",
    "    AND useragent.is_bot = false \n",
    "-- remove users in any sub test\n",
    "    AND event.subTest IS NULL\n",
    "GROUP BY event.searchsessionID\n",
    ") AS search\n",
    "\""
   ]
  },
  {
   "cell_type": "code",
   "execution_count": 150,
   "metadata": {},
   "outputs": [
    {
     "name": "stderr",
     "output_type": "stream",
     "text": [
      "Don't forget to authenticate with Kerberos using kinit\n",
      "\n"
     ]
    }
   ],
   "source": [
    "search_sessions_bylocation <-  wmfdata::query_hive(query)"
   ]
  },
  {
   "cell_type": "code",
   "execution_count": 152,
   "metadata": {},
   "outputs": [
    {
     "data": {
      "text/html": [
       "<table>\n",
       "<caption>A data.frame: 3 × 3</caption>\n",
       "<thead>\n",
       "\t<tr><th scope=col>location_type</th><th scope=col>num_sessions</th><th scope=col>prop_search_sessions</th></tr>\n",
       "\t<tr><th scope=col>&lt;chr&gt;</th><th scope=col>&lt;int&gt;</th><th scope=col>&lt;dbl&gt;</th></tr>\n",
       "</thead>\n",
       "<tbody>\n",
       "\t<tr><td>search_widget_sessions</td><td>72200534</td><td> 97.23931</td></tr>\n",
       "\t<tr><td>adv_search_sessions   </td><td> 7484071</td><td> 10.07951</td></tr>\n",
       "\t<tr><td>all_sessions          </td><td>74250354</td><td>100.00000</td></tr>\n",
       "</tbody>\n",
       "</table>\n"
      ],
      "text/latex": [
       "A data.frame: 3 × 3\n",
       "\\begin{tabular}{lll}\n",
       " location\\_type & num\\_sessions & prop\\_search\\_sessions\\\\\n",
       " <chr> & <int> & <dbl>\\\\\n",
       "\\hline\n",
       "\t search\\_widget\\_sessions & 72200534 &  97.23931\\\\\n",
       "\t adv\\_search\\_sessions    &  7484071 &  10.07951\\\\\n",
       "\t all\\_sessions           & 74250354 & 100.00000\\\\\n",
       "\\end{tabular}\n"
      ],
      "text/markdown": [
       "\n",
       "A data.frame: 3 × 3\n",
       "\n",
       "| location_type &lt;chr&gt; | num_sessions &lt;int&gt; | prop_search_sessions &lt;dbl&gt; |\n",
       "|---|---|---|\n",
       "| search_widget_sessions | 72200534 |  97.23931 |\n",
       "| adv_search_sessions    |  7484071 |  10.07951 |\n",
       "| all_sessions           | 74250354 | 100.00000 |\n",
       "\n"
      ],
      "text/plain": [
       "  location_type          num_sessions prop_search_sessions\n",
       "1 search_widget_sessions 72200534      97.23931           \n",
       "2 adv_search_sessions     7484071      10.07951           \n",
       "3 all_sessions           74250354     100.00000           "
      ]
     },
     "metadata": {},
     "output_type": "display_data"
    }
   ],
   "source": [
    "search_sessions_prop_bylocation <- search_sessions_bylocation %>%\n",
    "    gather(location_type, num_sessions, 1:3) %>%\n",
    "    mutate(prop_search_sessions = num_sessions/search_sessions_bylocation$all_sessions * 100) \n",
    "\n",
    "search_sessions_prop_bylocation"
   ]
  }
 ],
 "metadata": {
  "kernelspec": {
   "display_name": "R",
   "language": "R",
   "name": "ir"
  },
  "language_info": {
   "codemirror_mode": "r",
   "file_extension": ".r",
   "mimetype": "text/x-r-source",
   "name": "R",
   "pygments_lexer": "r",
   "version": "3.5.2"
  }
 },
 "nbformat": 4,
 "nbformat_minor": 4
}
